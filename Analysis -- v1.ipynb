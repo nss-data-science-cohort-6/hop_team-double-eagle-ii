{
 "cells": [
  {
   "cell_type": "code",
   "execution_count": 1,
   "id": "d1097ece",
   "metadata": {},
   "outputs": [],
   "source": [
    "import pandas as pd\n",
    "import numpy as np\n",
    "import matplotlib.pyplot as plt\n",
    "import seaborn as sns\n",
    "import sqlite3\n",
    "from tqdm.notebook import tqdm"
   ]
  },
  {
   "cell_type": "code",
   "execution_count": 4,
   "id": "9b3cf702",
   "metadata": {},
   "outputs": [
    {
     "data": {
      "text/html": [
       "<div>\n",
       "<style scoped>\n",
       "    .dataframe tbody tr th:only-of-type {\n",
       "        vertical-align: middle;\n",
       "    }\n",
       "\n",
       "    .dataframe tbody tr th {\n",
       "        vertical-align: top;\n",
       "    }\n",
       "\n",
       "    .dataframe thead th {\n",
       "        text-align: right;\n",
       "    }\n",
       "</style>\n",
       "<table border=\"1\" class=\"dataframe\">\n",
       "  <thead>\n",
       "    <tr style=\"text-align: right;\">\n",
       "      <th></th>\n",
       "      <th>from_npi</th>\n",
       "      <th>to_npi</th>\n",
       "      <th>patient_count</th>\n",
       "    </tr>\n",
       "  </thead>\n",
       "  <tbody>\n",
       "    <tr>\n",
       "      <th>0</th>\n",
       "      <td>1922001957</td>\n",
       "      <td>1295726032</td>\n",
       "      <td>81</td>\n",
       "    </tr>\n",
       "    <tr>\n",
       "      <th>1</th>\n",
       "      <td>1922001957</td>\n",
       "      <td>1578584199</td>\n",
       "      <td>129</td>\n",
       "    </tr>\n",
       "    <tr>\n",
       "      <th>2</th>\n",
       "      <td>1154324192</td>\n",
       "      <td>1295726032</td>\n",
       "      <td>110</td>\n",
       "    </tr>\n",
       "    <tr>\n",
       "      <th>3</th>\n",
       "      <td>1154324192</td>\n",
       "      <td>1578584199</td>\n",
       "      <td>202</td>\n",
       "    </tr>\n",
       "    <tr>\n",
       "      <th>4</th>\n",
       "      <td>1235132408</td>\n",
       "      <td>1093741464</td>\n",
       "      <td>112</td>\n",
       "    </tr>\n",
       "    <tr>\n",
       "      <th>...</th>\n",
       "      <td>...</td>\n",
       "      <td>...</td>\n",
       "      <td>...</td>\n",
       "    </tr>\n",
       "    <tr>\n",
       "      <th>135917</th>\n",
       "      <td>1104850130</td>\n",
       "      <td>1649228735</td>\n",
       "      <td>52</td>\n",
       "    </tr>\n",
       "    <tr>\n",
       "      <th>135918</th>\n",
       "      <td>1104850130</td>\n",
       "      <td>1700878360</td>\n",
       "      <td>85</td>\n",
       "    </tr>\n",
       "    <tr>\n",
       "      <th>135919</th>\n",
       "      <td>1104850130</td>\n",
       "      <td>1811955917</td>\n",
       "      <td>59</td>\n",
       "    </tr>\n",
       "    <tr>\n",
       "      <th>135920</th>\n",
       "      <td>1104850130</td>\n",
       "      <td>1861479545</td>\n",
       "      <td>217</td>\n",
       "    </tr>\n",
       "    <tr>\n",
       "      <th>135921</th>\n",
       "      <td>1104850130</td>\n",
       "      <td>1922039346</td>\n",
       "      <td>912</td>\n",
       "    </tr>\n",
       "  </tbody>\n",
       "</table>\n",
       "<p>135922 rows × 3 columns</p>\n",
       "</div>"
      ],
      "text/plain": [
       "          from_npi      to_npi  patient_count\n",
       "0       1922001957  1295726032             81\n",
       "1       1922001957  1578584199            129\n",
       "2       1154324192  1295726032            110\n",
       "3       1154324192  1578584199            202\n",
       "4       1235132408  1093741464            112\n",
       "...            ...         ...            ...\n",
       "135917  1104850130  1649228735             52\n",
       "135918  1104850130  1700878360             85\n",
       "135919  1104850130  1811955917             59\n",
       "135920  1104850130  1861479545            217\n",
       "135921  1104850130  1922039346            912\n",
       "\n",
       "[135922 rows x 3 columns]"
      ]
     },
     "execution_count": 4,
     "metadata": {},
     "output_type": "execute_result"
    }
   ],
   "source": [
    "fresh_query = \"\"\"\n",
    "SELECT from_npi, to_npi, patient_count\n",
    "FROM hop\n",
    "INNER JOIN [nppes]\n",
    "ON from_npi = NPI\n",
    "WHERE ProviderBusinessPracticeLocationAddressStateName = 'TN' AND HealthcareProviderPrimaryTaxonomySwitch = 'Y' AND ProviderBusinessPracticeLocationAddressCityName = 'NASHVILLE';\n",
    "\"\"\"\n",
    "\n",
    "with sqlite3.connect('NPPES_Data_Dissemination.sqlite') as db: \n",
    "    fresh_table = pd.read_sql(fresh_query, db)\n",
    "    \n",
    "fresh_table"
   ]
  },
  {
   "cell_type": "code",
   "execution_count": 5,
   "id": "feb1ebcf",
   "metadata": {},
   "outputs": [],
   "source": [
    "fresh_table.to_csv('fresh_table.csv')"
   ]
  },
  {
   "cell_type": "code",
   "execution_count": null,
   "id": "0d982670",
   "metadata": {},
   "outputs": [],
   "source": [
    "\n",
    "facility_query = \"SELECT NPI, [ProviderOrganizationName(LegalBusinessName)], ProviderBusinessPracticeLocationAddressPostalCode, HealthcareProviderTaxonomyCode FROM [nppes] WHERE EntityTypeCode = 2 AND ProviderBusinessPracticeLocationAddressCityName = 'NASHVILLE' AND ProviderBusinessPracticeLocationAddressStateName = 'TN' AND HealthcareProviderPrimaryTaxonomySwitch = 'Y' GROUP BY NPI, 'ProviderOrganizationName(LegalBusinessName)', ProviderBusinessPracticeLocationAddressPostalCode, HealthcareProviderTaxonomyCode\"\n",
    "    \n",
    "facility_sqlite = pd.read_sql(facility_query, db)\n",
    "    \n",
    "facility_sqlite"
   ]
  },
  {
   "cell_type": "code",
   "execution_count": null,
   "id": "73bc8a16",
   "metadata": {},
   "outputs": [],
   "source": [
    "provider_query = \"SELECT NPI, ProviderFirstName, [ProviderLastName(LegalName)], ProviderNamePrefixText, ProviderNameSuffixText, ProviderCredentialText, HealthcareProviderTaxonomyCode FROM [NPPES] WHERE EntityTypeCode = 1 AND ProviderBusinessPracticeLocationAddressCityName = 'NASHVILLE' AND ProviderBusinessPracticeLocationAddressStateName = 'TN' AND HealthcareProviderPrimaryTaxonomySwitch = 'Y' AND HealthcareProviderTaxonomyCode NOT NULL GROUP BY NPI, NPI, ProviderFirstName, [ProviderLastName(LegalName)], ProviderNamePrefixText, ProviderNameSuffixText, ProviderCredentialText, HealthcareProviderTaxonomyCode\"\n",
    "\n",
    "provider = pd.read_sql(provider_query, db)\n",
    "\n",
    "provider"
   ]
  },
  {
   "cell_type": "code",
   "execution_count": null,
   "id": "1710fccd",
   "metadata": {},
   "outputs": [],
   "source": [
    "taxonomy_nucc = pd.read_csv('nucc_taxonomy_230.csv', encoding= 'unicode_escape')"
   ]
  },
  {
   "cell_type": "code",
   "execution_count": null,
   "id": "90e372f2",
   "metadata": {
    "scrolled": false
   },
   "outputs": [],
   "source": [
    "provider = provider.merge(taxonomy_nucc, left_on = \"HealthcareProviderTaxonomyCode\", right_on = \"Code\")\n",
    "provider"
   ]
  },
  {
   "cell_type": "code",
   "execution_count": null,
   "id": "21239a88",
   "metadata": {
    "scrolled": true
   },
   "outputs": [],
   "source": [
    "provider['Classification'].unique()"
   ]
  },
  {
   "cell_type": "code",
   "execution_count": null,
   "id": "cdaba8f4",
   "metadata": {},
   "outputs": [],
   "source": [
    "facility = facility_sqlite.merge(taxonomy_nucc, left_on = \"HealthcareProviderTaxonomyCode\", right_on = \"Code\")\n",
    "facility = facility[facility['Grouping'] == 'Hospitals']\n",
    "facility"
   ]
  },
  {
   "cell_type": "code",
   "execution_count": null,
   "id": "45186a1a",
   "metadata": {},
   "outputs": [],
   "source": [
    "provider.to_sql('provider', db, if_exists = 'replace', index = False)"
   ]
  },
  {
   "cell_type": "code",
   "execution_count": null,
   "id": "b1081cb8",
   "metadata": {},
   "outputs": [],
   "source": [
    "facility.to_sql('facility', db, if_exists = 'replace', index = False)"
   ]
  },
  {
   "cell_type": "code",
   "execution_count": null,
   "id": "387d30fc",
   "metadata": {
    "scrolled": true
   },
   "outputs": [],
   "source": [
    "test_query = \"SELECT Classification FROM provider\"\n",
    "provider_test = pd.read_sql(test_query, db)\n",
    "\n",
    "provider_test"
   ]
  },
  {
   "cell_type": "code",
   "execution_count": null,
   "id": "06db75f5",
   "metadata": {},
   "outputs": [],
   "source": [
    "specialist_query = \"SELECT hop.from_npi, hop.to_npi, hop.patient_count, hop.transaction_count, ProviderFirstName AS First_Name, [ProviderLastName(LegalName)] AS Last_Name, [ProviderOrganizationName(LegalBusinessName)] AS Hospital_Name, provider.Classification FROM provider INNER JOIN hop ON provider.NPI = hop.from_npi LEFT JOIN facility ON hop.to_npi = facility.NPI ORDER BY hop.patient_count DESC;\"\n",
    "\n",
    "\n",
    "\n",
    "\n",
    "specialist_test = pd.read_sql(specialist_query, db)\n",
    "\n",
    "specialist_test"
   ]
  },
  {
   "cell_type": "code",
   "execution_count": null,
   "id": "38bcfe37",
   "metadata": {},
   "outputs": [],
   "source": [
    "specialist_test['Hospital_Name'].unique()"
   ]
  },
  {
   "cell_type": "code",
   "execution_count": null,
   "id": "cf689862",
   "metadata": {},
   "outputs": [],
   "source": [
    "specialist_test['Classification'].unique()"
   ]
  },
  {
   "cell_type": "code",
   "execution_count": null,
   "id": "03ddf542",
   "metadata": {
    "scrolled": true
   },
   "outputs": [],
   "source": [
    "Nash_NPI = specialist_test[specialist_test.Hospital_Name.isin(['HCA HEALTH SERVICES OF TENNESSEE, INC.',\n",
    "       'VANDERBILT UNIVERSITY MEDICAL CENTER',\n",
    "       'HTI MEMORIAL HOSPITAL CORPORATION', 'SAINT THOMAS WEST HOSPITAL',\n",
    "       'NASHVILLE GENERAL HOSPITAL', \"BAPTIST WOMEN'S HEALTH CENTER LLC\",\n",
    "       'SELECT SPECIALTY HOSPITAL - NASHVILLE LLC', 'SETON CORPORATION',\n",
    "       'CURAHEALTH NASHVILLE, LLC',\n",
    "       'STATE OF TENNESSEE STATE F&A PAYROLL'])]\n",
    "\n",
    "Nash_NPI"
   ]
  },
  {
   "cell_type": "code",
   "execution_count": null,
   "id": "e772970f",
   "metadata": {
    "scrolled": true
   },
   "outputs": [],
   "source": [
    "Nash_NPI_Minus_Vandy = specialist_test[specialist_test.Hospital_Name.isin(['HCA HEALTH SERVICES OF TENNESSEE, INC.',\n",
    "       'HTI MEMORIAL HOSPITAL CORPORATION', 'SAINT THOMAS WEST HOSPITAL',\n",
    "       'NASHVILLE GENERAL HOSPITAL', \"BAPTIST WOMEN'S HEALTH CENTER LLC\",\n",
    "       'SELECT SPECIALTY HOSPITAL - NASHVILLE LLC', 'SETON CORPORATION',\n",
    "       'CURAHEALTH NASHVILLE, LLC',\n",
    "       'STATE OF TENNESSEE STATE F&A PAYROLL'])]\n",
    "\n",
    "Nash_NPI_Minus_Vandy"
   ]
  },
  {
   "cell_type": "code",
   "execution_count": null,
   "id": "2d6b0490",
   "metadata": {},
   "outputs": [],
   "source": [
    "Vandy_NPI = specialist_test[specialist_test.Hospital_Name.isin(['VANDERBILT UNIVERSITY MEDICAL CENTER'])]\n",
    "\n",
    "Vandy_NPI"
   ]
  },
  {
   "cell_type": "code",
   "execution_count": null,
   "id": "1c809bac",
   "metadata": {},
   "outputs": [],
   "source": [
    "fig, ax = plt.subplots(figsize = (8,6))\n",
    "g = sns.FacetGrid(Nash_NPI_Minus_Vandy, col=\"Last_Name\")\n",
    "g.map(sns.barplot(\n",
    "    data = Nash_NPI_Minus_Vandy[Nash_NPI_Minus_Vandy.Classification.isin(['Family Medicine', 'Orthopaedic Surgery'])],\n",
    "    x = 'Hospital_Name',\n",
    "    y = 'patient_count',\n",
    "    hue = 'Classification',\n",
    "    ax = ax\n",
    "))\n"
   ]
  },
  {
   "cell_type": "code",
   "execution_count": null,
   "id": "3521b6b7",
   "metadata": {},
   "outputs": [],
   "source": [
    "Nash_Ortho_Fam = Nash_NPI[Nash_NPI.Classification.isin(['Orthopaedic Surgery', 'Family Medicine'])]"
   ]
  },
  {
   "cell_type": "code",
   "execution_count": null,
   "id": "f85c8309",
   "metadata": {},
   "outputs": [],
   "source": [
    "sns.barplot(data=gdp_df.groupby(['Continent'])['Country'].nunique().to_frame().reset_index().rename(columns = {'Country' : 'Total_Countries'}), y='Continent', x='Total_Countries', hue='Continent', dodge=False); "
   ]
  },
  {
   "cell_type": "code",
   "execution_count": null,
   "id": "c554969d",
   "metadata": {},
   "outputs": [],
   "source": [
    "fig, ax = plt.subplots(figsize = (8,6))\n",
    "\n",
    "sns.barplot(\n",
    "    data = Nash_NPI[Nash_NPI.Classification.isin(['Orthopaedic Surgery'])],\n",
    "    x = 'Hospital_Name',\n",
    "    y = 'patient_count',\n",
    "    ax = ax\n",
    ")\n",
    "plt.xticks(rotation = 90);"
   ]
  },
  {
   "cell_type": "code",
   "execution_count": null,
   "id": "270e837c",
   "metadata": {},
   "outputs": [],
   "source": [
    "Nash_NPI[Nash_NPI.Classification.isin(['Family Medicine', 'Orthopaedic Surgery'])].groupby(['Hospital_Name'])['patient_count'].sum()\n",
    "\n",
    "fig, ax = plt.subplots(figsize = (8,6))\n",
    "\n",
    "sns.barplot(\n",
    "    data = Nash_NPI[Nash_NPI.Classification.isin(['Family Medicine', 'Orthopaedic Surgery'])],\n",
    "    x = 'Hospital_Name',\n",
    "    y = y,\n",
    "    hue = 'Classification',\n",
    "    ax = ax\n",
    ")\n",
    "plt.xticks(rotation = 90);"
   ]
  },
  {
   "cell_type": "code",
   "execution_count": null,
   "id": "b1923f35",
   "metadata": {},
   "outputs": [],
   "source": [
    "fig, ax = plt.subplots(figsize = (20,6))\n",
    "\n",
    "sns.histplot(\n",
    "    data = Nash_NPI[Nash_NPI.Classification.isin(['Family Medicine', 'Orthopaedic Surgery'])],\n",
    "    x = 'Hospital_Name',\n",
    "    y = 'patient_count',\n",
    "    hue = 'Classification',\n",
    "    ax = ax\n",
    ")\n",
    "plt.xticks(rotation = 90);"
   ]
  },
  {
   "cell_type": "code",
   "execution_count": null,
   "id": "98fe2269",
   "metadata": {},
   "outputs": [],
   "source": [
    "Nash_Fam_Med = Nash_NPI[Nash_NPI.Classification.isin(['Orthopaedic Surgery'])]\n",
    "\n",
    "Nash_Fam_Med['patient_count'].median()"
   ]
  },
  {
   "cell_type": "code",
   "execution_count": null,
   "id": "be3464df",
   "metadata": {},
   "outputs": [],
   "source": [
    "fig, ax = plt.subplots(figsize = (25,10))\n",
    "\n",
    "sns.boxplot(\n",
    "    data = Nash_NPI_Minus_Vandy[Nash_NPI_Minus_Vandy.Classification.isin(['Family Medicine', 'Orthopaedic Surgery'])],\n",
    "    x = 'Last_Name',\n",
    "    y = 'patient_count',\n",
    "    hue = 'Classification',\n",
    "    ax = ax\n",
    ")\n",
    "plt.xticks(rotation = 90);"
   ]
  },
  {
   "cell_type": "code",
   "execution_count": null,
   "id": "e5140616",
   "metadata": {},
   "outputs": [],
   "source": [
    "Nash_NPI_Minus_Vandy[Nash_NPI_Minus_Vandy['Last_Name'] == 'DEBOER']"
   ]
  },
  {
   "cell_type": "code",
   "execution_count": null,
   "id": "fb11db13",
   "metadata": {},
   "outputs": [],
   "source": [
    "neo4j_output = pd.read_csv('neo4j_output.csv', encoding= 'unicode_escape')"
   ]
  },
  {
   "cell_type": "code",
   "execution_count": null,
   "id": "9dba1306",
   "metadata": {},
   "outputs": [],
   "source": [
    "neo4j_output.to_sql('neo4j_output', db, if_exists = 'replace', index = False)"
   ]
  },
  {
   "cell_type": "code",
   "execution_count": null,
   "id": "a51b110f",
   "metadata": {
    "scrolled": true
   },
   "outputs": [],
   "source": [
    "neo4j_output.head()"
   ]
  },
  {
   "cell_type": "code",
   "execution_count": null,
   "id": "23211aa3",
   "metadata": {},
   "outputs": [],
   "source": [
    "neo4j_output.groupby(['communityId'])['number'].count().sort_values(ascending = False).head(10)"
   ]
  },
  {
   "cell_type": "code",
   "execution_count": null,
   "id": "15266d34",
   "metadata": {
    "scrolled": true
   },
   "outputs": [],
   "source": [
    "neo4j_output.groupby(['communityId'])['number'].count().sort_values(ascending = False).head(10).plot(kind = 'bar')\n"
   ]
  },
  {
   "cell_type": "code",
   "execution_count": null,
   "id": "cc225dbd",
   "metadata": {},
   "outputs": [],
   "source": [
    "specialist_group_id = \"SELECT hop.from_npi, hop.to_npi, hop.patient_count, hop.transaction_count, ProviderFirstName AS First_Name, [ProviderLastName(LegalName)] AS Last_Name, [ProviderOrganizationName(LegalBusinessName)] AS Hospital_Name, provider.Classification, neo4j_output.communityId FROM provider INNER JOIN hop ON provider.NPI = hop.from_npi LEFT JOIN facility ON hop.to_npi = facility.NPI LEFT JOIN neo4j_output ON hop.from_npi = neo4j_output.number ORDER BY hop.patient_count DESC;\"\n",
    "\n",
    "\n",
    "\n",
    "\n",
    "specialist_group_id = pd.read_sql(specialist_group_id, db)\n",
    "\n",
    "specialist_group_id"
   ]
  },
  {
   "cell_type": "code",
   "execution_count": null,
   "id": "66538951",
   "metadata": {},
   "outputs": [],
   "source": [
    "specialist_group_id.groupby(['communityId', 'Classification'])['patient_count'].sum().sort_values(ascending = False).head(10).plot(kind = 'bar', color = 'orange')"
   ]
  },
  {
   "cell_type": "code",
   "execution_count": null,
   "id": "8c3c137c",
   "metadata": {
    "scrolled": false
   },
   "outputs": [],
   "source": [
    "radiology_4384 = specialist_group_id.query('communityId == [4384] & Classification == \"Internal Medicine\"')\n",
    "\n",
    "radiology_4384"
   ]
  },
  {
   "cell_type": "code",
   "execution_count": null,
   "id": "ec7e2502",
   "metadata": {},
   "outputs": [],
   "source": [
    "radiology_4384.groupby(['from_npi'])['patient_count'].sum().sort_values(ascending = False)"
   ]
  },
  {
   "cell_type": "code",
   "execution_count": null,
   "id": "6166eee0",
   "metadata": {
    "scrolled": true
   },
   "outputs": [],
   "source": [
    "specialist_group_id[specialist_group_id['from_npi'] == 1417131715].groupby(['from_npi'])['patient_count'].sum()"
   ]
  },
  {
   "cell_type": "code",
   "execution_count": null,
   "id": "c1cb3441",
   "metadata": {
    "scrolled": true
   },
   "outputs": [],
   "source": [
    "specialist_group_id.query('communityId == [4413]').groupby(['from_npi'])['patient_count'].sum().sort_values(ascending = False)"
   ]
  },
  {
   "cell_type": "code",
   "execution_count": null,
   "id": "e62c3570",
   "metadata": {},
   "outputs": [],
   "source": [
    "specialist_group_id.query('communityId == [4413] & from_npi == [1770519704]')[['Last_Name', 'First_Name']]"
   ]
  },
  {
   "cell_type": "code",
   "execution_count": null,
   "id": "4086118a",
   "metadata": {},
   "outputs": [],
   "source": [
    "#4454\n",
    "\n",
    "specialist_group_id.query('communityId == [4454]').groupby(['from_npi'])['patient_count'].sum().sort_values(ascending = False)"
   ]
  },
  {
   "cell_type": "code",
   "execution_count": null,
   "id": "6e0b6819",
   "metadata": {
    "scrolled": true
   },
   "outputs": [],
   "source": [
    "specialist_group_id.query('communityId == [4454] & from_npi == [1922091180]')"
   ]
  },
  {
   "cell_type": "code",
   "execution_count": null,
   "id": "4ec756b1",
   "metadata": {},
   "outputs": [],
   "source": [
    "#113\n",
    "specialist_group_id.query('communityId == [113]').groupby(['from_npi'])['patient_count'].sum().sort_values(ascending = False)"
   ]
  },
  {
   "cell_type": "code",
   "execution_count": null,
   "id": "d17393af",
   "metadata": {
    "scrolled": true
   },
   "outputs": [],
   "source": [
    "specialist_group_id.query('communityId == [113] & from_npi == [1093903544]')"
   ]
  },
  {
   "cell_type": "code",
   "execution_count": null,
   "id": "d0d6463f",
   "metadata": {
    "scrolled": true
   },
   "outputs": [],
   "source": [
    "#4702\n",
    "\n",
    "specialist_group_id.query('communityId == [4702]').groupby(['from_npi'])['patient_count'].sum().sort_values(ascending = False)"
   ]
  },
  {
   "cell_type": "code",
   "execution_count": null,
   "id": "214364cb",
   "metadata": {},
   "outputs": [],
   "source": [
    "specialist_group_id.query('communityId == [4702] & from_npi == [1306849765]')"
   ]
  },
  {
   "cell_type": "code",
   "execution_count": null,
   "id": "1fef8b6b",
   "metadata": {},
   "outputs": [],
   "source": [
    "#I'm seeing that there are a lot of missing values, primarily because our decisions building the 'specialist_list' table that limits what we can determine from the exploration. I'm going to attempt to read in additional items to better fill out the 'Community ID' picture.\n",
    "\n",
    "Community_ID = \"\"\"\n",
    "\n",
    "SELECT \n",
    "\n",
    "\n",
    "\n",
    "\n",
    "specialist_group_id = pd.read_sql(specialist_group_id, db)\n",
    "\n",
    "specialist_group_id\n"
   ]
  },
  {
   "cell_type": "code",
   "execution_count": null,
   "id": "791f90a7",
   "metadata": {},
   "outputs": [],
   "source": []
  }
 ],
 "metadata": {
  "kernelspec": {
   "display_name": "Python 3 (ipykernel)",
   "language": "python",
   "name": "python3"
  },
  "language_info": {
   "codemirror_mode": {
    "name": "ipython",
    "version": 3
   },
   "file_extension": ".py",
   "mimetype": "text/x-python",
   "name": "python",
   "nbconvert_exporter": "python",
   "pygments_lexer": "ipython3",
   "version": "3.9.12"
  }
 },
 "nbformat": 4,
 "nbformat_minor": 5
}
