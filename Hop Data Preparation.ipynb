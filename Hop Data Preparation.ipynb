{
 "cells": [
  {
   "cell_type": "code",
   "execution_count": 1,
   "id": "07801102",
   "metadata": {},
   "outputs": [],
   "source": [
    "import pandas as pd\n",
    "import sqlite3\n",
    "from tqdm.notebook import tqdm\n"
   ]
  },
  {
   "cell_type": "code",
   "execution_count": null,
   "id": "2784b044",
   "metadata": {},
   "outputs": [],
   "source": [
    "chunks = pd.read_csv('DocGraph_Hop_Teaming_2018_Commercial/DocGraph_Hop_Teaming_2018.csv', chunksize = 10000)\n",
    "hop = []\n",
    "for chunk in chunks: \n",
    "    chunk = chunk[(chunk['transaction_count'] >= 50) & (chunk['average_day_wait'] < 50)]\n",
    "    hop.append(chunk)"
   ]
  },
  {
   "cell_type": "code",
   "execution_count": null,
   "id": "09d24395",
   "metadata": {
    "scrolled": true
   },
   "outputs": [],
   "source": [
    "hop = pd.concat(hop, ignore_index = True)\n",
    "\n",
    "hop"
   ]
  },
  {
   "cell_type": "code",
   "execution_count": 3,
   "id": "4a219163",
   "metadata": {},
   "outputs": [],
   "source": [
    "db = sqlite3.connect('DocGraph_Hop_Teaming_2018_Commercial/hop.sqlite')\n",
    "\n",
    "chunks = pd.read_csv('DocGraph_Hop_Teaming_2018_Commercial/DocGraph_Hop_Teaming_2018.csv', chunksize = 10000)\n",
    "hop = []\n",
    "for chunk in chunks:\n",
    "    chunk = chunk[(chunk['transaction_count'] >= 50) & (chunk['average_day_wait'] < 50)]\n",
    "    chunk.to_sql('hop', db, if_exists = 'append', index = False)            # Append the chunk to a calls table"
   ]
  },
  {
   "cell_type": "code",
   "execution_count": null,
   "id": "aadd0220",
   "metadata": {},
   "outputs": [],
   "source": []
  }
 ],
 "metadata": {
  "kernelspec": {
   "display_name": "Python 3 (ipykernel)",
   "language": "python",
   "name": "python3"
  },
  "language_info": {
   "codemirror_mode": {
    "name": "ipython",
    "version": 3
   },
   "file_extension": ".py",
   "mimetype": "text/x-python",
   "name": "python",
   "nbconvert_exporter": "python",
   "pygments_lexer": "ipython3",
   "version": "3.9.12"
  }
 },
 "nbformat": 4,
 "nbformat_minor": 5
}
