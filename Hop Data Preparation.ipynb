{
 "cells": [
  {
   "cell_type": "code",
   "execution_count": 1,
   "id": "07801102",
   "metadata": {},
   "outputs": [],
   "source": [
    "import pandas as pd\n",
    "import sqlite3\n",
    "from tqdm.notebook import tqdm"
   ]
  },
  {
   "cell_type": "code",
   "execution_count": null,
   "id": "33e29149",
   "metadata": {},
   "outputs": [],
   "source": [
    "#Create SQL Lite File from DocGraph_Hop_Teaming_2018.csv"
   ]
  },
  {
   "cell_type": "code",
   "execution_count": 2,
   "id": "bbbfcd1a",
   "metadata": {},
   "outputs": [],
   "source": [
    "db = sqlite3.connect('NPPES_Data_Dissemination.sqlite')\n",
    "\n",
    "chunks = pd.read_csv('DocGraph_Hop_Teaming_2018_Commercial/DocGraph_Hop_Teaming_2018.csv', chunksize = 10000)\n",
    "hop = []\n",
    "for chunk in chunks:\n",
    "    chunk = chunk[(chunk['transaction_count'] >= 50) & (chunk['average_day_wait'] < 50)]\n",
    "    chunk.to_sql('hop', db, if_exists = 'append', index = False)"
   ]
  },
  {
   "cell_type": "code",
   "execution_count": null,
   "id": "2608acce",
   "metadata": {},
   "outputs": [],
   "source": [
    "#Update 'NPPES_Data_Dissemination' by adding NPI data from 'npidata_pfile_20050523_20230212.csv'"
   ]
  },
  {
   "cell_type": "code",
   "execution_count": 3,
   "id": "1301ee3e",
   "metadata": {},
   "outputs": [],
   "source": [
    "#This is the working code that creates the NPPES_Data_Dissemination.sqlite file\n",
    "db = sqlite3.connect('NPPES_Data_Dissemination.sqlite')\n",
    "\n",
    "cols = ['NPI','Entity Type Code','Provider Organization Name (Legal Business Name)', 'Provider Last Name (Legal Name)','Provider First Name', 'Provider Middle Name','Provider Name Prefix Text',  'Provider Name Suffix Text','Provider Credential Text', \n",
    "        'Provider First Line Business Practice Location Address', \n",
    "        'Provider Second Line Business Practice Location Address',\n",
    "        'Provider Business Practice Location Address City Name',\n",
    "        'Provider Business Practice Location Address State Name',\n",
    "        'Provider Business Practice Location Address Postal Code', \n",
    "        'Healthcare Provider Taxonomy Code_1', \n",
    "        'Healthcare Provider Primary Taxonomy Switch_1', \n",
    "        'Healthcare Provider Taxonomy Code_2', 'Healthcare Provider Primary Taxonomy Switch_2', 'Healthcare Provider Taxonomy Code_3', 'Healthcare Provider Primary Taxonomy Switch_3', 'Healthcare Provider Taxonomy Code_4', 'Healthcare Provider Primary Taxonomy Switch_4', 'Healthcare Provider Taxonomy Code_5', 'Healthcare Provider Primary Taxonomy Switch_5', 'Healthcare Provider Taxonomy Code_6', 'Healthcare Provider Primary Taxonomy Switch_6', 'Healthcare Provider Taxonomy Code_7', 'Healthcare Provider Primary Taxonomy Switch_7', 'Healthcare Provider Taxonomy Code_8', 'Healthcare Provider Primary Taxonomy Switch_8', 'Healthcare Provider Taxonomy Code_9', 'Healthcare Provider Primary Taxonomy Switch_9', 'Healthcare Provider Taxonomy Code_10', 'Healthcare Provider Primary Taxonomy Switch_10', 'Healthcare Provider Taxonomy Code_11', 'Healthcare Provider Primary Taxonomy Switch_11', 'Healthcare Provider Taxonomy Code_12', 'Healthcare Provider Primary Taxonomy Switch_12', 'Healthcare Provider Taxonomy Code_13', 'Healthcare Provider Primary Taxonomy Switch_13', 'Healthcare Provider Taxonomy Code_14', 'Healthcare Provider Primary Taxonomy Switch_14', 'Healthcare Provider Taxonomy Code_15', 'Healthcare Provider Primary Taxonomy Switch_15']\n",
    "\n",
    "nppes_chunks = pd.read_csv('npidata_pfile_20050523-20230212.csv', usecols=cols, iterator=True, chunksize=100000, low_memory=False)\n",
    "var_cols = ['Healthcare Provider Taxonomy Code', 'Healthcare Provider Primary Taxonomy Switch']\n",
    "\n",
    "nppes_full = []\n",
    "\n",
    "state_list = ['TN', 'AR', 'NC', 'MS', 'GA']\n",
    "nppes = pd.DataFrame()\n",
    "id_cols = ['NPI','Entity Type Code','Provider Organization Name (Legal Business Name)', 'Provider Last Name (Legal Name)','Provider First Name', 'Provider Middle Name','Provider Name Prefix Text', 'Provider Name Suffix Text','Provider Credential Text', 'Provider First Line Business Practice Location Address', 'Provider Second Line Business Practice Location Address','Provider Business Practice Location Address City Name','Provider Business Practice Location Address State Name','Provider Business Practice Location Address Postal Code']\n",
    "\n",
    "for chunk in nppes_chunks:\n",
    "    filtered_chunk = chunk[chunk['Provider Business Practice Location Address State Name'].isin(state_list)]\n",
    "    filtered_chunk = pd.wide_to_long(filtered_chunk, var_cols, i = id_cols , j = \"\", sep = \"_\")\n",
    "    \n",
    "    nppes = pd.concat([nppes, filtered_chunk])\n",
    "\n",
    "nppes = nppes.reset_index()\n",
    "nppes.columns = nppes.columns.str.replace(\" \", \"\")\n",
    "nppes = nppes.drop(columns = \"\")\n",
    "\n",
    "\n",
    "nppes.to_sql('nppes', con = db, if_exists = 'append', index = False) \n",
    "\n",
    "\n",
    "db.close()"
   ]
  },
  {
   "cell_type": "code",
   "execution_count": null,
   "id": "a87d54d6",
   "metadata": {},
   "outputs": [],
   "source": [
    "#Read in NPPES data file to determine accurate upload"
   ]
  },
  {
   "cell_type": "code",
   "execution_count": null,
   "id": "bbd5a1b5",
   "metadata": {},
   "outputs": [],
   "source": [
    "db = sqlite3.connect('NPPES_Data_Dissemination.sqlite')\n",
    "query = \"SELECT * FROM nppes\"\n",
    "\n",
    "with sqlite3.connect('NPPES_Data_Dissemination.sqlite') as db: \n",
    "    nppes_sqlite = pd.read_sql(query, db)"
   ]
  },
  {
   "cell_type": "code",
   "execution_count": null,
   "id": "6e814cbf",
   "metadata": {},
   "outputs": [],
   "source": [
    "nppes_sqlite"
   ]
  },
  {
   "cell_type": "code",
   "execution_count": null,
   "id": "fc11b496",
   "metadata": {},
   "outputs": [],
   "source": []
  }
 ],
 "metadata": {
  "kernelspec": {
   "display_name": "Python 3 (ipykernel)",
   "language": "python",
   "name": "python3"
  },
  "language_info": {
   "codemirror_mode": {
    "name": "ipython",
    "version": 3
   },
   "file_extension": ".py",
   "mimetype": "text/x-python",
   "name": "python",
   "nbconvert_exporter": "python",
   "pygments_lexer": "ipython3",
   "version": "3.9.12"
  }
 },
 "nbformat": 4,
 "nbformat_minor": 5
}
