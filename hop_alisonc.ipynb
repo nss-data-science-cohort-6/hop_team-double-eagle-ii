{
 "cells": [
  {
   "cell_type": "code",
   "execution_count": 1,
   "id": "8be48e30",
   "metadata": {},
   "outputs": [],
   "source": [
    "import pandas as pd\n",
    "import sqlite3\n",
    "from tqdm.notebook import tqdm"
   ]
  },
  {
   "cell_type": "markdown",
   "id": "00d02761",
   "metadata": {},
   "source": [
    "We want to eliminate \"accidental\" referrals, so filter the hop teaming data so that the transaction_count is at least 50 and the average_day_wait is less than 50."
   ]
  },
  {
   "cell_type": "code",
   "execution_count": null,
   "id": "bc72baf8",
   "metadata": {},
   "outputs": [],
   "source": [
    "##db = sqlite3.connect('data/doc_grahp_hop.sqlite')\n",
    "\n",
    "##chunks = pd.read_csv('data/DocGraph_Hop_Teaming_2018.csv', chunksize = 10000)\n",
    "##hop = []\n",
    "##for chunk in chunks: \n",
    "##    chunk = chunk[(chunk['transaction_count'] >= 50) & (chunk['average_day_wait'] < 50)]\n",
    "##    hop.append(chunk)\n",
    "##    chunk.to_sql('hop', db, if_exists = 'append', index = False) "
   ]
  },
  {
   "cell_type": "code",
   "execution_count": null,
   "id": "990b89aa",
   "metadata": {},
   "outputs": [],
   "source": [
    "##hopp = pd.concat(hop, ignore_index = True)\n",
    "##hopp\n"
   ]
  },
  {
   "cell_type": "code",
   "execution_count": 2,
   "id": "902ed8eb",
   "metadata": {
    "scrolled": true
   },
   "outputs": [],
   "source": [
    "cols = ['NPI','Entity Type Code','Provider Organization Name (Legal Business Name)', 'Provider Last Name (Legal Name)','Provider First Name', 'Provider Middle Name','Provider Name Prefix Text', 'Provider Name Suffix Text','Provider Credential Text', 'Provider First Line Business Practice Location Address', 'Provider Second Line Business Practice Location Address','Provider Business Practice Location Address City Name','Provider Business Practice Location Address State Name','Provider Business Practice Location Address Postal Code', 'Healthcare Provider Taxonomy Code_1', 'Healthcare Provider Primary Taxonomy Switch_1', 'Healthcare Provider Taxonomy Code_2', 'Healthcare Provider Primary Taxonomy Switch_2', 'Healthcare Provider Taxonomy Code_3', 'Healthcare Provider Primary Taxonomy Switch_3', 'Healthcare Provider Taxonomy Code_4', 'Healthcare Provider Primary Taxonomy Switch_4', 'Healthcare Provider Taxonomy Code_5', 'Healthcare Provider Primary Taxonomy Switch_5', 'Healthcare Provider Taxonomy Code_6', 'Healthcare Provider Primary Taxonomy Switch_6', 'Healthcare Provider Taxonomy Code_7', 'Healthcare Provider Primary Taxonomy Switch_7', 'Healthcare Provider Taxonomy Code_8', 'Healthcare Provider Primary Taxonomy Switch_8', 'Healthcare Provider Taxonomy Code_9', 'Healthcare Provider Primary Taxonomy Switch_9', 'Healthcare Provider Taxonomy Code_10', 'Healthcare Provider Primary Taxonomy Switch_10', 'Healthcare Provider Taxonomy Code_11', 'Healthcare Provider Primary Taxonomy Switch_11', 'Healthcare Provider Taxonomy Code_12', 'Healthcare Provider Primary Taxonomy Switch_12', 'Healthcare Provider Taxonomy Code_13', 'Healthcare Provider Primary Taxonomy Switch_13', 'Healthcare Provider Taxonomy Code_14', 'Healthcare Provider Primary Taxonomy Switch_14', 'Healthcare Provider Taxonomy Code_15', 'Healthcare Provider Primary Taxonomy Switch_15']\n",
    "\n",
    "nppes_chunks = pd.read_csv('data/NPPES_Data_Dissemination_February_2023/npidata_pfile_20050523-20230212.csv', usecols=cols, iterator=True, chunksize=1000)"
   ]
  },
  {
   "cell_type": "code",
   "execution_count": 3,
   "id": "5e997b1a",
   "metadata": {},
   "outputs": [],
   "source": [
    "state_list = ['TN', 'AR', 'NC', 'MS', 'GA']\n",
    "nppes = pd.concat([chunk[chunk['Provider Business Practice Location Address State Name'].isin(state_list)] for chunk in nppes_chunks])"
   ]
  },
  {
   "cell_type": "code",
   "execution_count": 4,
   "id": "c6f39eac",
   "metadata": {},
   "outputs": [
    {
     "data": {
      "text/html": [
       "<div>\n",
       "<style scoped>\n",
       "    .dataframe tbody tr th:only-of-type {\n",
       "        vertical-align: middle;\n",
       "    }\n",
       "\n",
       "    .dataframe tbody tr th {\n",
       "        vertical-align: top;\n",
       "    }\n",
       "\n",
       "    .dataframe thead th {\n",
       "        text-align: right;\n",
       "    }\n",
       "</style>\n",
       "<table border=\"1\" class=\"dataframe\">\n",
       "  <thead>\n",
       "    <tr style=\"text-align: right;\">\n",
       "      <th></th>\n",
       "      <th>variable</th>\n",
       "      <th>value</th>\n",
       "    </tr>\n",
       "  </thead>\n",
       "  <tbody>\n",
       "    <tr>\n",
       "      <th>0</th>\n",
       "      <td>NPI</td>\n",
       "      <td>1750384210</td>\n",
       "    </tr>\n",
       "    <tr>\n",
       "      <th>1</th>\n",
       "      <td>NPI</td>\n",
       "      <td>1386647840</td>\n",
       "    </tr>\n",
       "    <tr>\n",
       "      <th>2</th>\n",
       "      <td>NPI</td>\n",
       "      <td>1922001486</td>\n",
       "    </tr>\n",
       "    <tr>\n",
       "      <th>3</th>\n",
       "      <td>NPI</td>\n",
       "      <td>1992708796</td>\n",
       "    </tr>\n",
       "    <tr>\n",
       "      <th>4</th>\n",
       "      <td>NPI</td>\n",
       "      <td>1760485551</td>\n",
       "    </tr>\n",
       "    <tr>\n",
       "      <th>...</th>\n",
       "      <td>...</td>\n",
       "      <td>...</td>\n",
       "    </tr>\n",
       "    <tr>\n",
       "      <th>28630399</th>\n",
       "      <td>Healthcare Provider Primary Taxonomy Switch_15</td>\n",
       "      <td>NaN</td>\n",
       "    </tr>\n",
       "    <tr>\n",
       "      <th>28630400</th>\n",
       "      <td>Healthcare Provider Primary Taxonomy Switch_15</td>\n",
       "      <td>NaN</td>\n",
       "    </tr>\n",
       "    <tr>\n",
       "      <th>28630401</th>\n",
       "      <td>Healthcare Provider Primary Taxonomy Switch_15</td>\n",
       "      <td>NaN</td>\n",
       "    </tr>\n",
       "    <tr>\n",
       "      <th>28630402</th>\n",
       "      <td>Healthcare Provider Primary Taxonomy Switch_15</td>\n",
       "      <td>NaN</td>\n",
       "    </tr>\n",
       "    <tr>\n",
       "      <th>28630403</th>\n",
       "      <td>Healthcare Provider Primary Taxonomy Switch_15</td>\n",
       "      <td>NaN</td>\n",
       "    </tr>\n",
       "  </tbody>\n",
       "</table>\n",
       "<p>28630404 rows × 2 columns</p>\n",
       "</div>"
      ],
      "text/plain": [
       "                                                variable       value\n",
       "0                                                    NPI  1750384210\n",
       "1                                                    NPI  1386647840\n",
       "2                                                    NPI  1922001486\n",
       "3                                                    NPI  1992708796\n",
       "4                                                    NPI  1760485551\n",
       "...                                                  ...         ...\n",
       "28630399  Healthcare Provider Primary Taxonomy Switch_15         NaN\n",
       "28630400  Healthcare Provider Primary Taxonomy Switch_15         NaN\n",
       "28630401  Healthcare Provider Primary Taxonomy Switch_15         NaN\n",
       "28630402  Healthcare Provider Primary Taxonomy Switch_15         NaN\n",
       "28630403  Healthcare Provider Primary Taxonomy Switch_15         NaN\n",
       "\n",
       "[28630404 rows x 2 columns]"
      ]
     },
     "execution_count": 4,
     "metadata": {},
     "output_type": "execute_result"
    }
   ],
   "source": [
    "nppes_l = pd.melt(nppes)\n",
    "nppes_l"
   ]
  },
  {
   "cell_type": "code",
   "execution_count": 6,
   "id": "6f421724",
   "metadata": {},
   "outputs": [
    {
     "ename": "SyntaxError",
     "evalue": "invalid syntax (2799361150.py, line 1)",
     "output_type": "error",
     "traceback": [
      "\u001b[0;36m  File \u001b[0;32m\"/var/folders/bk/4_dns4_x6z3_rrb8824x_td40000gn/T/ipykernel_24373/2799361150.py\"\u001b[0;36m, line \u001b[0;32m1\u001b[0m\n\u001b[0;31m    nppes_l.loc[nppes_l['Healthcare Provider Primary Taxonomy Switch_{i}'] = 'Y'] = nppes_l['Healthcare Provider Primary Taxonomy Switch_{i}'] = 'N';\u001b[0m\n\u001b[0m                                                                           ^\u001b[0m\n\u001b[0;31mSyntaxError\u001b[0m\u001b[0;31m:\u001b[0m invalid syntax\n"
     ]
    }
   ],
   "source": [
    "nppes_l.loc[nppes_l['Healthcare Provider Primary Taxonomy Switch_{i}'] = 'Y'] = nppes_l['Healthcare Provider Primary Taxonomy Switch_{i}'] = 'N';"
   ]
  },
  {
   "cell_type": "code",
   "execution_count": null,
   "id": "745a4fef",
   "metadata": {},
   "outputs": [],
   "source": [
    "taxonomy = pd.read_csv('data/nucc_taxonomy_230.csv', nrows=100)\n",
    "taxonomy"
   ]
  },
  {
   "cell_type": "code",
   "execution_count": null,
   "id": "e3af39bc",
   "metadata": {},
   "outputs": [],
   "source": [
    "##db = sqlite3.connect('data/NPPES_Data_Dissemination.sqlite')\n",
    "\n",
    "##chunks = pd.read_csv('data/NPPES_Data_Dissemination_February_2023.csv', chunksize = 10000)\n",
    "##nppes = []\n",
    "##for chunk in chunks: \n",
    "\n",
    "##    hop.append(chunk)"
   ]
  }
 ],
 "metadata": {
  "kernelspec": {
   "display_name": "Python 3 (ipykernel)",
   "language": "python",
   "name": "python3"
  },
  "language_info": {
   "codemirror_mode": {
    "name": "ipython",
    "version": 3
   },
   "file_extension": ".py",
   "mimetype": "text/x-python",
   "name": "python",
   "nbconvert_exporter": "python",
   "pygments_lexer": "ipython3",
   "version": "3.9.7"
  }
 },
 "nbformat": 4,
 "nbformat_minor": 5
}
